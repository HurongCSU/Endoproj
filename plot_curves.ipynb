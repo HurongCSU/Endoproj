{
 "cells": [
  {
   "cell_type": "code",
   "execution_count": 2,
   "metadata": {},
   "outputs": [
    {
     "name": "stdout",
     "output_type": "stream",
     "text": [
      "[0.86 0.37 0.63 0.83 0.4  0.62 0.65 0.75 0.59 0.58 0.76 0.44 0.51 0.57\n",
      " 0.83 0.57 0.82 0.59 0.65 0.59 0.63 0.45 0.83 0.67 0.41 0.33 0.61 0.87\n",
      " 0.47 0.76 0.21 0.24 0.34 0.6  0.43 0.29 0.73 0.43 0.22 0.7  0.6  0.22\n",
      " 0.32 0.48 0.3  0.68 0.87 0.24 0.42 0.31 0.89 0.69 0.25 0.33 0.53 0.28\n",
      " 0.36 0.52 0.25 0.6  0.52 0.53 0.68 0.25 0.25 0.22 0.25 0.39 0.52 0.57\n",
      " 0.6  0.19 0.48 0.44 0.57 0.7  0.36 0.2  0.54 0.42 0.66 0.62 0.67]\n",
      "[0.2 0.8 0.8 0.8 1.  1.  0.8 0.7 0.9 1.  0.4 0.6 0.6 0.8 0.8 0.8 0.7 1.\n",
      " 0.6 0.8 0.8 0.7 0.7 0.2 0.6 0.6 0.6 0.8 0.  1.  0.  0.6 0.3 0.4 0.2 0.\n",
      " 0.8 0.1 0.  0.3 0.5 0.  0.  0.  0.1 0.1 0.1 0.2 0.4 0.  0.3 0.  0.4 0.\n",
      " 0.  0.1 0.6 1.  0.3 0.9 0.9 0.7 0.4 0.1 0.  0.2 0.3 0.1 0.7 0.1 0.4 0.\n",
      " 0.3 0.3 0.8 0.1 0.9 0.  0.6 0.5 0.4 1.  0.8]\n",
      "[1. 1. 1. 1. 1. 1. 1. 1. 1. 1. 1. 1. 1. 1. 1. 1. 1. 1. 1. 1. 1. 1. 1. 1.\n",
      " 1. 1. 1. 1. 1. 1. 0. 0. 0. 0. 0. 0. 0. 0. 0. 0. 0. 0. 0. 0. 0. 0. 0. 0.\n",
      " 0. 0. 0. 0. 0. 0. 0. 0. 0. 1. 1. 1. 1. 1. 0. 0. 0. 0. 0. 0. 0. 0. 0. 0.\n",
      " 0. 0. 0. 0. 0. 0. 0. 0. 1. 1. 1.]\n",
      "[1. 1. 0. 1. 1. 1. 1. 1. 1. 1. 1. 1. 1. 1. 1. 1. 1. 1. 1. 1. 1. 1. 1. 1.\n",
      " 1. 0. 1. 1. 1. 1. 0. 0. 1. 1. 1. 0. 1. 1. 0. 1. 0. 0. 1. 1. 0. 1. 1. 0.\n",
      " 0. 0. 0. 0. 0. 0. 1. 0. 1. 0. 0. 1. 1. 1. 0. 0. 0. 1. 0. 0. 1. 1. 0. 0.\n",
      " 0. 1. 1. 1. 1. 0. 0. 0. 0. 1. 1.]\n",
      "[1. 0. 0. 1. 1. 1. 1. 1. 1. 1. 1. 1. 1. 1. 1. 1. 1. 1. 1. 0. 1. 1. 1. 1.\n",
      " 0. 0. 1. 1. 0. 1. 0. 0. 0. 0. 0. 0. 1. 0. 0. 1. 0. 0. 0. 0. 0. 1. 1. 0.\n",
      " 0. 0. 0. 0. 1. 0. 1. 1. 0. 1. 0. 1. 1. 1. 0. 0. 0. 0. 0. 1. 1. 1. 1. 0.\n",
      " 0. 0. 0. 1. 1. 0. 0. 0. 1. 1. 1.]\n",
      "[0.64138712 0.59086465 0.74093543 0.83786091 0.84490686 0.77378816\n",
      " 0.87823778 0.75363564 0.82132485 0.70610921 0.37160009 0.39427282\n",
      " 0.89053337 0.78638437 0.81603681 0.73081745 0.74749385 0.77834972\n",
      " 0.57582288 0.43400656 0.96430806 0.76661789 0.7988494  0.23734995\n",
      " 0.45017464 0.20949006 0.73239582 0.86134047 0.20263105 0.77204642\n",
      " 0.00842372 0.4069409  0.18237522 0.64127663 0.16902153 0.0301717\n",
      " 0.36511384 0.21077697 0.22789403 0.33722135 0.65885338 0.14778832\n",
      " 0.093268   0.07276194 0.0812994  0.33454237 0.35339952 0.33100765\n",
      " 0.64297572 0.06221813 0.42912542 0.13917416 0.21054693 0.03748412\n",
      " 0.11626487 0.09928522 0.36978903 0.67475113 0.43324783 0.77077787\n",
      " 0.82243262 0.85823246 0.24425981 0.22371661 0.13216454 0.18129654\n",
      " 0.08385123 0.23367255 0.64400469 0.51677354 0.33209416 0.02576212\n",
      " 0.16946227 0.18681623 0.74299108 0.25161116 0.82930944 0.0578319\n",
      " 0.5920447  0.40828871 0.16424827 0.83660074 0.87946236]\n",
      "[0. 1. 0. 0. 1. 1. 1. 1. 0. 0. 1. 1. 1. 0. 0. 0. 1. 0. 0. 1. 0. 1. 1. 1.\n",
      " 0. 0. 0. 1. 1. 1. 1. 0. 0. 1. 0. 0. 1. 0. 1. 1. 1. 0. 1. 0. 0. 0. 1. 1.\n",
      " 0. 1. 0. 0. 0. 0. 1. 0. 1. 0. 1. 1. 0. 1. 1. 0. 0. 0. 0. 0. 1. 1. 0. 0.\n",
      " 0. 1. 0. 1. 1. 0. 1. 0. 1. 1. 1.]\n",
      "[1. 0. 0. 0. 1. 1. 0. 1. 0. 1. 1. 0. 1. 1. 1. 1. 0. 0. 0. 0. 1. 1. 0. 1.\n",
      " 1. 0. 1. 1. 0. 1. 0. 0. 0. 0. 0. 0. 0. 0. 0. 1. 0. 0. 0. 1. 0. 1. 0. 1.\n",
      " 0. 0. 0. 0. 0. 1. 0. 1. 0. 1. 0. 1. 1. 1. 0. 0. 0. 0. 0. 0. 0. 0. 1. 0.\n",
      " 0. 1. 1. 1. 0. 0. 0. 0. 1. 1. 1.]\n"
     ]
    }
   ],
   "source": [
    "import csv\n",
    "import pandas as pd\n",
    "import numpy as np\n",
    "from sklearn import model_selection\n",
    "from tpot import TPOTClassifier\n",
    "import tools\n",
    "\n",
    "from sklearn.linear_model import LogisticRegression\n",
    "from sklearn.tree import DecisionTreeClassifier\n",
    "from sklearn.neighbors import KNeighborsClassifier\n",
    "from sklearn.discriminant_analysis import LinearDiscriminantAnalysis\n",
    "from sklearn.naive_bayes import GaussianNB\n",
    "from sklearn.svm import SVC\n",
    "from sklearn.ensemble import BaggingClassifier\n",
    "from sklearn.neural_network import MLPClassifier\n",
    "from sklearn.ensemble import RandomForestClassifier\n",
    "from sklearn.ensemble import ExtraTreesClassifier\n",
    "from sklearn.linear_model import LinearRegression\n",
    "from sklearn.ensemble import AdaBoostClassifier\n",
    "#from pyearth import Earth\n",
    "from sklearn.cross_decomposition import PLSRegression\n",
    "\n",
    "\n",
    "from sklearn.feature_selection import SelectKBest\n",
    "\n",
    "from sklearn.feature_selection import chi2\n",
    "from sklearn.feature_selection import f_classif\n",
    "from skfeature.function.statistical_based import t_score\n",
    "from skfeature.function.statistical_based import gini_index\n",
    "from skfeature.function.similarity_based import fisher_score\n",
    "from skfeature.function.similarity_based import reliefF\n",
    "\n",
    "from sklearn.feature_selection import mutual_info_classif\n",
    "from skfeature.function.information_theoretical_based import LCSI\n",
    "from skfeature.function.information_theoretical_based import MIM\n",
    "from skfeature.function.information_theoretical_based import MIFS\n",
    "from skfeature.function.information_theoretical_based import MRMR\n",
    "from skfeature.function.information_theoretical_based import CIFE\n",
    "from skfeature.function.information_theoretical_based import JMI\n",
    "from skfeature.function.information_theoretical_based import CMIM\n",
    "from skfeature.function.information_theoretical_based import ICAP\n",
    "from skfeature.function.information_theoretical_based import DISR\n",
    "\n",
    "from scipy.stats import wilcoxon\n",
    "\n",
    "from sklearn.metrics import roc_auc_score\n",
    "from sklearn.pipeline import make_pipeline\n",
    "from sklearn.preprocessing import StandardScaler\n",
    "from sklearn.preprocessing import MinMaxScaler\n",
    "from sklearn.utils import resample\n",
    "\n",
    "from sklearn.metrics import accuracy_score\n",
    "from sklearn.metrics import average_precision_score\n",
    "from sklearn.metrics import cohen_kappa_score\n",
    "from sklearn.metrics import hamming_loss\n",
    "from sklearn.metrics import recall_score\n",
    "from sklearn.metrics import confusion_matrix\n",
    "\n",
    "import warnings\n",
    "warnings.filterwarnings(\"ignore\", category=RuntimeWarning) \n",
    "\n",
    "file = \"./csv/allpredict.csv\"\n",
    "\n",
    "f = open(file)\n",
    "csv_f = csv.reader(f)\n",
    "features = next(csv_f)\n",
    "dataset = pd.read_csv(file, names=features, usecols=range(1,9), dtype=np.float64, skiprows=1, low_memory=False)\n",
    "# INITIALIZING, CLEANING, AND STRATIFYING DATASET\n",
    "dataset[\"outcome\"] = pd.to_numeric(dataset[\"outcome\"], errors='coerce')\n",
    "dataset.dropna(axis=1, thresh=2, inplace=True)\n",
    "dataset.dropna(inplace=True)\n",
    "array_OG = dataset.values\n",
    "deep = array_OG[:,0]\n",
    "outcome = array_OG[:,1]\n",
    "expert1 = array_OG[:,2]\n",
    "hand = array_OG[:,3]\n",
    "expert2 = array_OG[:,4]\n",
    "tp  =array_OG[:,5]\n",
    "expert3 = array_OG[:,6]\n",
    "expert4 = array_OG[:,7]\n",
    "\n",
    "print(deep)\n",
    "print(hand)\n",
    "print(outcome)\n",
    "print(expert1)\n",
    "print(expert2)\n",
    "print(tp)\n",
    "print(expert3)\n",
    "print(expert4)"
   ]
  },
  {
   "cell_type": "code",
   "execution_count": 8,
   "metadata": {
    "scrolled": true
   },
   "outputs": [
    {
     "data": {
      "image/png": "[encoded data removed]",
      "text/plain": [
       "<Figure size 432x288 with 1 Axes>"
      ]
     },
     "metadata": {
      "needs_background": "light"
     },
     "output_type": "display_data"
    }
   ],
   "source": [
    "from sklearn import metrics\n",
    "import matplotlib.pyplot as plt\n",
    "\n",
    "#plot for tpot\n",
    "fpr, tpr, thresholds= metrics.precision_recall_curve(outcome, tp, pos_label=1)\n",
    "auc_CT =metrics.auc(tpr, fpr) \n",
    "plt.plot(tpr, fpr,\n",
    "         label='TPOT (area = {0:0.2f}, acc = 0.80)'\n",
    "         ''.format(auc_CT),\n",
    "         color='mediumpurple', linestyle=':', linewidth=3)\n",
    "\n",
    "#plot for hand optimization\n",
    "fpr, tpr, thresholds= metrics.precision_recall_curve(outcome, hand, pos_label=1)\n",
    "auc = metrics.auc(tpr,fpr)\n",
    "plt.plot(tpr, fpr,\n",
    "         label='Radiomics curve (area = {0:0.2f}, acc = 0.84)'\n",
    "               ''.format(auc),\n",
    "         color='green', linestyle=':', linewidth=3)\n",
    "\n",
    "#plot for expert1\n",
    "fpr, tpr, thresholds= metrics.precision_recall_curve(outcome, expert1, pos_label=1)\n",
    "acc_1 = accuracy_score(outcome, expert1)\n",
    "plt.scatter(tpr[1],fpr[1], marker = 's', color = 'black', label='Expert1(acc = {0:0.2f})'\n",
    "            ''.format(acc_1), s = 30)\n",
    "\n",
    "#plot for expert2\n",
    "fpr, tpr, thresholds= metrics.precision_recall_curve(outcome, expert2, pos_label=1)\n",
    "acc_2 = accuracy_score(outcome, expert2)\n",
    "plt.scatter(tpr[1], fpr[1], marker = 'o', color = 'black', label='Expert2(acc = {0:0.2f})'\n",
    "            ''.format(acc_2), s = 30)\n",
    "\n",
    "#plot for expert2\n",
    "fpr, tpr, thresholds= metrics.precision_recall_curve(outcome, expert3, pos_label=1)\n",
    "acc_3 = accuracy_score(outcome, expert3)\n",
    "plt.scatter(tpr[1], fpr[1], marker = 'v', color = 'black', label='Expert3(acc = {0:0.2f})'\n",
    "            ''.format(acc_3), s = 30)\n",
    "\n",
    "#plot for expert2\n",
    "fpr, tpr, thresholds= metrics.precision_recall_curve(outcome, expert4, pos_label=1)\n",
    "acc_4 = accuracy_score(outcome, expert4)\n",
    "plt.scatter(tpr[1], fpr[1], marker = '<', color = 'black', label='Expert4(acc = {0:0.2f})'\n",
    "            ''.format(acc_4), s = 30)\n",
    "\n",
    "plt.plot([0,1],[1,0],color='y',linestyle=':',linewidth=2)\n",
    "\n",
    "plt.legend(loc = 'lower left')\n",
    "plt.xlabel('Recall')\n",
    "plt.ylabel('Precision')\n",
    "plt.savefig('prroc.jpg')\n",
    "plt.show()"
   ]
  },
  {
   "cell_type": "code",
   "execution_count": null,
   "metadata": {},
   "outputs": [],
   "source": [
    "precision, recall, thresholds = metrics.precision_recall_curve(outcome, deep,pos_label = 1)\n",
    "print(precision)\n",
    "print(recall)\n",
    "area = metrics.auc(recall,precision)\n",
    "\n",
    "print(\"Area Under PR Curve(AP): %0.2f\" % area)  #should be same as AP?"
   ]
  },
  {
   "cell_type": "code",
   "execution_count": 7,
   "metadata": {
    "scrolled": true
   },
   "outputs": [
    {
     "data": {
      "image/png": "[encoded data removed]",
      "text/plain": [
       "<Figure size 432x288 with 1 Axes>"
      ]
     },
     "metadata": {
      "needs_background": "light"
     },
     "output_type": "display_data"
    }
   ],
   "source": [
    "from sklearn import metrics\n",
    "import matplotlib.pyplot as plt\n",
    "\n",
    "#plot for tpot\n",
    "fpr, tpr, thresholds= metrics.roc_curve(outcome, tp, pos_label=1)\n",
    "auc_CT =metrics.auc(fpr, tpr) \n",
    "plt.plot(fpr, tpr,\n",
    "         label='TPOT (area = {0:0.2f}, acc = 0.80)'\n",
    "         ''.format(auc_CT),\n",
    "         color='mediumpurple', linestyle=':', linewidth=3)\n",
    "\n",
    "#plot for hand optimization\n",
    "fpr, tpr, thresholds= metrics.roc_curve(outcome, hand, pos_label=1)\n",
    "auc = metrics.auc(fpr,tpr)\n",
    "plt.plot(fpr, tpr,\n",
    "         label='Radiomics curve (area = {0:0.2f}, acc = 0.84)'\n",
    "               ''.format(auc),\n",
    "         color='green', linestyle=':', linewidth=3)\n",
    "\n",
    "#plot for expert1\n",
    "fpr, tpr, thresholds= metrics.roc_curve(outcome, expert1, pos_label=1)\n",
    "acc_1 = accuracy_score(outcome, expert1)\n",
    "plt.scatter(fpr[1],tpr[1], marker = 's', color = 'black', label='Expert1(acc = {0:0.2f})'\n",
    "            ''.format(acc_1), s = 30)\n",
    "\n",
    "#plot for expert2\n",
    "fpr, tpr, thresholds= metrics.roc_curve(outcome, expert2, pos_label=1)\n",
    "acc_2 = accuracy_score(outcome, expert2)\n",
    "plt.scatter(fpr[1], tpr[1], marker = 'o', color = 'black', label='Expert2(acc = {0:0.2f})'\n",
    "            ''.format(acc_2), s = 30)\n",
    "\n",
    "#plot for expert3\n",
    "fpr, tpr, thresholds= metrics.roc_curve(outcome, expert3, pos_label=1)\n",
    "acc_3 = accuracy_score(outcome, expert3)\n",
    "plt.scatter(fpr[1], tpr[1], marker = 'v', color = 'black', label='Expert3(acc = {0:0.2f})'\n",
    "            ''.format(acc_3), s = 30)\n",
    "\n",
    "#plot for expert4\n",
    "fpr, tpr, thresholds= metrics.roc_curve(outcome, expert4, pos_label=1)\n",
    "acc_4 = accuracy_score(outcome, expert4)\n",
    "plt.scatter(fpr[1], tpr[1], marker = '<', color = 'black', label='Expert4(acc = {0:0.2f})'\n",
    "            ''.format(acc_4), s = 30)\n",
    "\n",
    "plt.plot([0,1],[0,1],color='y',linestyle=':',linewidth=2)\n",
    "\n",
    "plt.legend(loc = 'lower right')\n",
    "plt.xlabel('False Positive Rate')\n",
    "plt.ylabel('True Positive Rate')\n",
    "plt.savefig('roc.jpg')\n",
    "plt.show()"
   ]
  },
  {
   "cell_type": "code",
   "execution_count": 22,
   "metadata": {},
   "outputs": [
    {
     "name": "stdout",
     "output_type": "stream",
     "text": [
      "Sensitivity: 0.868421052631579\n",
      "Sensitivity: 0.8157894736842105\n",
      "Sensitivity: 0.5789473684210527\n",
      "Sensitivity: 0.631578947368421\n",
      "Acc: 0.7108433734939759\n",
      "Specificity: 0.5777777777777777\n",
      "Specificity: 0.7111111111111111\n",
      "Specificity: 0.5777777777777777\n",
      "Specificity: 0.7777777777777778\n"
     ]
    }
   ],
   "source": [
    "print(\"Sensitivity: \" + repr(recall_score(outcome, expert1)))\n",
    "print(\"Sensitivity: \" + repr(recall_score(outcome, expert2)))\n",
    "print(\"Sensitivity: \" + repr(recall_score(outcome, expert3)))\n",
    "print(\"Sensitivity: \" + repr(recall_score(outcome, expert4)))\n",
    "print(\"Acc: \" + repr(accuracy_score(outcome, expert4)))\n",
    "tn, fp, fn, tp = confusion_matrix(outcome, expert1).ravel()\n",
    "print(\"Specificity: \" + repr(tn / (tn + fp)))\n",
    "tn, fp, fn, tp = confusion_matrix(outcome, expert2).ravel()\n",
    "print(\"Specificity: \" + repr(tn / (tn + fp)))\n",
    "tn, fp, fn, tp = confusion_matrix(outcome, expert3).ravel()\n",
    "print(\"Specificity: \" + repr(tn / (tn + fp)))\n",
    "tn, fp, fn, tp = confusion_matrix(outcome, expert4).ravel()\n",
    "print(\"Specificity: \" + repr(tn / (tn + fp)))\n",
    "\n",
    "#avg\n",
    "#sensi:0.73\n",
    "#speci:0.66"
   ]
  },
  {
   "cell_type": "code",
   "execution_count": 26,
   "metadata": {},
   "outputs": [
    {
     "name": "stdout",
     "output_type": "stream",
     "text": [
      "35 10 14 24\n",
      "(0.61-0.80)\n",
      "(0.47-0.77)\n",
      "(0.64-0.88)\n"
     ]
    }
   ],
   "source": [
    "print(tn,fp,fn,tp)\n",
    "import sys\n",
    "#p is proportion of trials that were successes\n",
    "#n is the number of trials\n",
    "import math\n",
    "def adjusted_wald(p, n, z=1.96):\n",
    "    p_adj = (n * p + (z**2)/2)/(n+z**2)\n",
    "    n_adj = n + z**2\n",
    "    span = z * math.sqrt(p_adj*(1-p_adj)/n_adj)\n",
    "    return max(0, p_adj - span), min(p_adj + span, 1.0)\n",
    "print(\"({:.2f}-{:.2f})\".format(*adjusted_wald(float(0.711), float(83))))\n",
    "print(\"({:.2f}-{:.2f})\".format(*adjusted_wald(float(0.63), float(38))))\n",
    "print(\"({:.2f}-{:.2f})\".format(*adjusted_wald(float(0.78), float(45))))"
   ]
  },
  {
   "cell_type": "code",
   "execution_count": 8,
   "metadata": {},
   "outputs": [
    {
     "name": "stdout",
     "output_type": "stream",
     "text": [
      "0.05779684847687222\n"
     ]
    }
   ],
   "source": [
    "import sys\n",
    "from scipy.stats import binom_test\n",
    "#x accuracy\n",
    "#n = number of trials\n",
    "#p accuracy compare to\n",
    "x = 0.82\n",
    "n =45\n",
    "p = 0.66\n",
    "\n",
    "print(binom_test(int(x * n), n, p))"
   ]
  },
  {
   "cell_type": "code",
   "execution_count": 63,
   "metadata": {},
   "outputs": [
    {
     "name": "stdout",
     "output_type": "stream",
     "text": [
      "Accuracy: 0.7590361445783133\n",
      "Sensitivity: 0.8157894736842105\n",
      "Specificity: 0.7111111111111111\n",
      "32 13 7 31\n"
     ]
    }
   ],
   "source": [
    "print(\"Accuracy: \" + repr(accuracy_score(outcome, expert2)))\n",
    "print(\"Sensitivity: \" + repr(recall_score(outcome, expert2)))\n",
    "tn, fp, fn, tp = confusion_matrix(outcome, expert2).ravel()\n",
    "print(\"Specificity: \" + repr(tn / (tn + fp)))\n",
    "print(tn,fp,fn,tp)"
   ]
  },
  {
   "cell_type": "code",
   "execution_count": 103,
   "metadata": {},
   "outputs": [
    {
     "name": "stdout",
     "output_type": "stream",
     "text": [
      "(0.63-0.82)\n",
      "(0.70-0.93)\n",
      "(0.50-0.77)\n"
     ]
    }
   ],
   "source": [
    "#averaged\n",
    "print(\"({:.2f}-{:.2f})\".format(*adjusted_wald(float(0.735), float(83))))\n",
    "print(\"({:.2f}-{:.2f})\".format(*adjusted_wald(float(0.845), float(38))))\n",
    "print(\"({:.2f}-{:.2f})\".format(*adjusted_wald(float(0.645), float(45))))"
   ]
  },
  {
   "cell_type": "code",
   "execution_count": 100,
   "metadata": {},
   "outputs": [
    {
     "name": "stdout",
     "output_type": "stream",
     "text": [
      "Accuracy: 0.7590361445783133\n",
      "Average Precision Score: 0.6590981149478297\n",
      "Sensitivity0.8157894736842105\n",
      "Specificity0.7111111111111111\n"
     ]
    }
   ],
   "source": [
    "print(\"Accuracy: \" + repr(accuracy_score(outcome, expert2)))\n",
    "print(\"Average Precision Score: \" + repr(average_precision_score(outcome, expert2)))\n",
    "#print(\"Kappa: \" + repr(cohen_kappa_score(Y_test, Y_pred)))\n",
    "#print(\"Hamming Loss: \" + repr(hamming_loss(Y_test, Y_pred)))\n",
    "#print(\"AUC: \" + repr(roc_auc_score(Y_test, prob)))\n",
    "print(\"Sensitivity\" + repr(recall_score(outcome,expert2)))\n",
    "tn,fp,fn,tp = confusion_matrix(outcome,expert2).ravel()\n",
    "print(\"Specificity\" + repr(tn/(tn+fp)))"
   ]
  },
  {
   "cell_type": "code",
   "execution_count": 2,
   "metadata": {},
   "outputs": [
    {
     "ename": "NameError",
     "evalue": "name 'adjusted_wald' is not defined",
     "output_type": "error",
     "traceback": [
      "\u001b[0;31m---------------------------------------------------------------------------\u001b[0m",
      "\u001b[0;31mNameError\u001b[0m                                 Traceback (most recent call last)",
      "\u001b[0;32m<ipython-input-2-01a4b3b66a4e>\u001b[0m in \u001b[0;36m<module>\u001b[0;34m\u001b[0m\n\u001b[0;32m----> 1\u001b[0;31m \u001b[0mprint\u001b[0m\u001b[0;34m(\u001b[0m\u001b[0;34m\"({:.2f}-{:.2f})\"\u001b[0m\u001b[0;34m.\u001b[0m\u001b[0mformat\u001b[0m\u001b[0;34m(\u001b[0m\u001b[0;34m*\u001b[0m\u001b[0madjusted_wald\u001b[0m\u001b[0;34m(\u001b[0m\u001b[0mfloat\u001b[0m\u001b[0;34m(\u001b[0m\u001b[0;36m0.87\u001b[0m\u001b[0;34m)\u001b[0m\u001b[0;34m,\u001b[0m \u001b[0mfloat\u001b[0m\u001b[0;34m(\u001b[0m\u001b[0;36m4593\u001b[0m\u001b[0;34m)\u001b[0m\u001b[0;34m)\u001b[0m\u001b[0;34m)\u001b[0m\u001b[0;34m)\u001b[0m\u001b[0;34m\u001b[0m\u001b[0;34m\u001b[0m\u001b[0m\n\u001b[0m\u001b[1;32m      2\u001b[0m \u001b[0mprint\u001b[0m\u001b[0;34m(\u001b[0m\u001b[0;34m\"({:.2f}-{:.2f})\"\u001b[0m\u001b[0;34m.\u001b[0m\u001b[0mformat\u001b[0m\u001b[0;34m(\u001b[0m\u001b[0;34m*\u001b[0m\u001b[0madjusted_wald\u001b[0m\u001b[0;34m(\u001b[0m\u001b[0mfloat\u001b[0m\u001b[0;34m(\u001b[0m\u001b[0;36m0.816\u001b[0m\u001b[0;34m)\u001b[0m\u001b[0;34m,\u001b[0m \u001b[0mfloat\u001b[0m\u001b[0;34m(\u001b[0m\u001b[0;36m38\u001b[0m\u001b[0;34m)\u001b[0m\u001b[0;34m)\u001b[0m\u001b[0;34m)\u001b[0m\u001b[0;34m)\u001b[0m\u001b[0;34m\u001b[0m\u001b[0;34m\u001b[0m\u001b[0m\n\u001b[1;32m      3\u001b[0m \u001b[0mprint\u001b[0m\u001b[0;34m(\u001b[0m\u001b[0;34m\"({:.2f}-{:.2f})\"\u001b[0m\u001b[0;34m.\u001b[0m\u001b[0mformat\u001b[0m\u001b[0;34m(\u001b[0m\u001b[0;34m*\u001b[0m\u001b[0madjusted_wald\u001b[0m\u001b[0;34m(\u001b[0m\u001b[0mfloat\u001b[0m\u001b[0;34m(\u001b[0m\u001b[0;36m0.711\u001b[0m\u001b[0;34m)\u001b[0m\u001b[0;34m,\u001b[0m \u001b[0mfloat\u001b[0m\u001b[0;34m(\u001b[0m\u001b[0;36m45\u001b[0m\u001b[0;34m)\u001b[0m\u001b[0;34m)\u001b[0m\u001b[0;34m)\u001b[0m\u001b[0;34m)\u001b[0m\u001b[0;34m\u001b[0m\u001b[0;34m\u001b[0m\u001b[0m\n",
      "\u001b[0;31mNameError\u001b[0m: name 'adjusted_wald' is not defined"
     ]
    }
   ],
   "source": [
    "\n",
    "print(\"({:.2f}-{:.2f})\".format(*adjusted_wald(float(0.87), float(4593))))\n",
    "print(\"({:.2f}-{:.2f})\".format(*adjusted_wald(float(0.816), float(38))))\n",
    "print(\"({:.2f}-{:.2f})\".format(*adjusted_wald(float(0.711), float(45))))"
   ]
  },
  {
   "cell_type": "code",
   "execution_count": 15,
   "metadata": {},
   "outputs": [
    {
     "name": "stdout",
     "output_type": "stream",
     "text": [
      "0.5685224029747196\n"
     ]
    }
   ],
   "source": [
    "import sys\n",
    "from scipy.stats import binom_test\n",
    "#x accuracy\n",
    "#n = number of trials\n",
    "#p accuracy compare to\n",
    "x = 0.84\n",
    "n = 38\n",
    "p = 0.76\n",
    "\n",
    "print(binom_test(int(x * n), n, p))"
   ]
  },
  {
   "cell_type": "code",
   "execution_count": null,
   "metadata": {},
   "outputs": [],
   "source": []
  }
 ],
 "metadata": {
  "kernelspec": {
   "display_name": "Python 3",
   "language": "python",
   "name": "python3"
  },
  "language_info": {
   "codemirror_mode": {
    "name": "ipython",
    "version": 3
   },
   "file_extension": ".py",
   "mimetype": "text/x-python",
   "name": "python",
   "nbconvert_exporter": "python",
   "pygments_lexer": "ipython3",
   "version": "3.7.6"
  }
 },
 "nbformat": 4,
 "nbformat_minor": 2
}
